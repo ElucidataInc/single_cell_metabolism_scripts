{
 "cells": [
  {
   "cell_type": "markdown",
   "metadata": {},
   "source": [
    "---\n",
    "title: Heatmap visualisation for average expression of genes in Neurons and RPs at E13.5, E15.5 and E17.5\n",
    "authors:\n",
    "- saksham.malhotra@elucidata.io\n",
    "tags:\n",
    "- SingleCell\n",
    "- Heatmap\n",
    "- RPsvsNeurons\n",
    "- GSEA\n",
    "created_at: 2019-05-31\n",
    "updated_at: 2019-05-31\n",
    "tldr: Calculates average gene expression for all genes in Neurons and IPs for all days and saves the heatmap in a GCT for visualisation\n",
    "---"
   ]
  },
  {
   "cell_type": "code",
   "execution_count": 18,
   "metadata": {},
   "outputs": [
    {
     "data": {
      "text/plain": [
       "[1] ‘2.3.0’"
      ]
     },
     "metadata": {},
     "output_type": "display_data"
    },
    {
     "name": "stderr",
     "output_type": "stream",
     "text": [
      "Loading required package: data.table\n",
      "\n"
     ]
    }
   ],
   "source": [
    "library(Seurat)\n",
    "packageVersion(\"Seurat\")\n",
    "\n",
    "#set plot widths for the notebook\n",
    "library(mapGCT)\n",
    "options(repr.plot.width=15, repr.plot.height=9)"
   ]
  },
  {
   "cell_type": "markdown",
   "metadata": {},
   "source": [
    "## 13th day"
   ]
  },
  {
   "cell_type": "markdown",
   "metadata": {},
   "source": [
    "### Read 13th day Seurat object from previous analysis"
   ]
  },
  {
   "cell_type": "code",
   "execution_count": 3,
   "metadata": {},
   "outputs": [
    {
     "data": {
      "text/plain": [
       "\n",
       "    IPs Neurons     RPs \n",
       "    245     656     139 "
      ]
     },
     "metadata": {},
     "output_type": "display_data"
    }
   ],
   "source": [
    "E135_Cortical <- readRDS(\"E135_Cortical.rds\")\n",
    "table(E135_Cortical@ident)"
   ]
  },
  {
   "cell_type": "markdown",
   "metadata": {},
   "source": [
    "#### Take average expression of all genes for Neurons and RPs"
   ]
  },
  {
   "cell_type": "code",
   "execution_count": 4,
   "metadata": {},
   "outputs": [
    {
     "data": {
      "text/html": [
       "<table>\n",
       "<caption>A data.frame: 6 × 3</caption>\n",
       "<thead>\n",
       "\t<tr><th></th><th scope=col>genes</th><th scope=col>avg_exp_RPs</th><th scope=col>avg_exp_Neurons</th></tr>\n",
       "\t<tr><th></th><th scope=col>&lt;chr&gt;</th><th scope=col>&lt;dbl&gt;</th><th scope=col>&lt;dbl&gt;</th></tr>\n",
       "</thead>\n",
       "<tbody>\n",
       "\t<tr><th scope=row>0610007N19Rik</th><td>0610007N19Rik</td><td> 0.552848945</td><td>-0.2629599559</td></tr>\n",
       "\t<tr><th scope=row>0610007P14Rik</th><td>0610007P14Rik</td><td>-0.023643141</td><td>-0.0256503997</td></tr>\n",
       "\t<tr><th scope=row>0610009B22Rik</th><td>0610009B22Rik</td><td>-0.090084981</td><td>-0.0023926576</td></tr>\n",
       "\t<tr><th scope=row>0610009D07Rik</th><td>0610009D07Rik</td><td>-0.018608984</td><td>-0.0310293285</td></tr>\n",
       "\t<tr><th scope=row>0610009E02Rik</th><td>0610009E02Rik</td><td> 0.507220523</td><td>-0.1296807225</td></tr>\n",
       "\t<tr><th scope=row>0610009L18Rik</th><td>0610009L18Rik</td><td>-0.003832044</td><td>-0.0004416643</td></tr>\n",
       "</tbody>\n",
       "</table>\n"
      ],
      "text/latex": [
       "A data.frame: 6 × 3\n",
       "\\begin{tabular}{r|lll}\n",
       "  & genes & avg\\_exp\\_RPs & avg\\_exp\\_Neurons\\\\\n",
       "  & <chr> & <dbl> & <dbl>\\\\\n",
       "\\hline\n",
       "\t0610007N19Rik & 0610007N19Rik &  0.552848945 & -0.2629599559\\\\\n",
       "\t0610007P14Rik & 0610007P14Rik & -0.023643141 & -0.0256503997\\\\\n",
       "\t0610009B22Rik & 0610009B22Rik & -0.090084981 & -0.0023926576\\\\\n",
       "\t0610009D07Rik & 0610009D07Rik & -0.018608984 & -0.0310293285\\\\\n",
       "\t0610009E02Rik & 0610009E02Rik &  0.507220523 & -0.1296807225\\\\\n",
       "\t0610009L18Rik & 0610009L18Rik & -0.003832044 & -0.0004416643\\\\\n",
       "\\end{tabular}\n"
      ],
      "text/markdown": [
       "\n",
       "A data.frame: 6 × 3\n",
       "\n",
       "| <!--/--> | genes &lt;chr&gt; | avg_exp_RPs &lt;dbl&gt; | avg_exp_Neurons &lt;dbl&gt; |\n",
       "|---|---|---|---|\n",
       "| 0610007N19Rik | 0610007N19Rik |  0.552848945 | -0.2629599559 |\n",
       "| 0610007P14Rik | 0610007P14Rik | -0.023643141 | -0.0256503997 |\n",
       "| 0610009B22Rik | 0610009B22Rik | -0.090084981 | -0.0023926576 |\n",
       "| 0610009D07Rik | 0610009D07Rik | -0.018608984 | -0.0310293285 |\n",
       "| 0610009E02Rik | 0610009E02Rik |  0.507220523 | -0.1296807225 |\n",
       "| 0610009L18Rik | 0610009L18Rik | -0.003832044 | -0.0004416643 |\n",
       "\n"
      ],
      "text/plain": [
       "              genes         avg_exp_RPs  avg_exp_Neurons\n",
       "0610007N19Rik 0610007N19Rik  0.552848945 -0.2629599559  \n",
       "0610007P14Rik 0610007P14Rik -0.023643141 -0.0256503997  \n",
       "0610009B22Rik 0610009B22Rik -0.090084981 -0.0023926576  \n",
       "0610009D07Rik 0610009D07Rik -0.018608984 -0.0310293285  \n",
       "0610009E02Rik 0610009E02Rik  0.507220523 -0.1296807225  \n",
       "0610009L18Rik 0610009L18Rik -0.003832044 -0.0004416643  "
      ]
     },
     "metadata": {},
     "output_type": "display_data"
    },
    {
     "data": {
      "text/html": [
       "<style>\n",
       ".list-inline {list-style: none; margin:0; padding: 0}\n",
       ".list-inline>li {display: inline-block}\n",
       ".list-inline>li:not(:last-child)::after {content: \"\\00b7\"; padding: 0 .5ex}\n",
       "</style>\n",
       "<ol class=list-inline><li>13295</li><li>3</li></ol>\n"
      ],
      "text/latex": [
       "\\begin{enumerate*}\n",
       "\\item 13295\n",
       "\\item 3\n",
       "\\end{enumerate*}\n"
      ],
      "text/markdown": [
       "1. 13295\n",
       "2. 3\n",
       "\n",
       "\n"
      ],
      "text/plain": [
       "[1] 13295     3"
      ]
     },
     "metadata": {},
     "output_type": "display_data"
    }
   ],
   "source": [
    "E13_average_exp_values_Neurons <- apply(E135_Cortical@scale.data[,WhichCells(E135_Cortical, ident = \"Neurons\")], MARGIN = 1, mean)  \n",
    "        \n",
    "E13_average_exp_values_RPs <- apply(E135_Cortical@scale.data[,WhichCells(E135_Cortical, ident = \"RPs\")], MARGIN = 1, mean)    \n",
    "\n",
    "avg_exp_edge_df_E13 <- data.frame(genes = rownames(E135_Cortical@scale.data), \n",
    "                                  avg_exp_RPs = E13_average_exp_values_RPs, \n",
    "                                  avg_exp_Neurons = E13_average_exp_values_Neurons, stringsAsFactors =F)\n",
    "head(avg_exp_edge_df_E13)\n",
    "dim(avg_exp_edge_df_E13)"
   ]
  },
  {
   "cell_type": "markdown",
   "metadata": {},
   "source": [
    "## 15th day"
   ]
  },
  {
   "cell_type": "code",
   "execution_count": 6,
   "metadata": {
    "scrolled": true
   },
   "outputs": [
    {
     "data": {
      "text/plain": [
       "\n",
       "    IPs Neurons     RPs \n",
       "    479    1962     197 "
      ]
     },
     "metadata": {},
     "output_type": "display_data"
    }
   ],
   "source": [
    "E155_Cortical <- readRDS(\"E155_Cortical.rds\")\n",
    "table(E155_Cortical@ident)"
   ]
  },
  {
   "cell_type": "markdown",
   "metadata": {},
   "source": [
    "#### Take average expression of all genes for Neurons and RPs"
   ]
  },
  {
   "cell_type": "code",
   "execution_count": 7,
   "metadata": {},
   "outputs": [
    {
     "data": {
      "text/html": [
       "<table>\n",
       "<caption>A data.frame: 6 × 3</caption>\n",
       "<thead>\n",
       "\t<tr><th></th><th scope=col>genes</th><th scope=col>avg_exp_RPs</th><th scope=col>avg_exp_Neurons</th></tr>\n",
       "\t<tr><th></th><th scope=col>&lt;chr&gt;</th><th scope=col>&lt;dbl&gt;</th><th scope=col>&lt;dbl&gt;</th></tr>\n",
       "</thead>\n",
       "<tbody>\n",
       "\t<tr><th scope=row>0610005C13Rik</th><td>0610005C13Rik</td><td>-0.03833079</td><td>-0.02070590</td></tr>\n",
       "\t<tr><th scope=row>0610007N19Rik</th><td>0610007N19Rik</td><td> 0.71755429</td><td>-0.20012080</td></tr>\n",
       "\t<tr><th scope=row>0610007P14Rik</th><td>0610007P14Rik</td><td> 0.22835883</td><td>-0.02283235</td></tr>\n",
       "\t<tr><th scope=row>0610009B22Rik</th><td>0610009B22Rik</td><td> 0.06986201</td><td>-0.01414614</td></tr>\n",
       "\t<tr><th scope=row>0610009D07Rik</th><td>0610009D07Rik</td><td> 0.27053670</td><td>-0.03634246</td></tr>\n",
       "\t<tr><th scope=row>0610009E02Rik</th><td>0610009E02Rik</td><td> 0.69287004</td><td>-0.07184510</td></tr>\n",
       "</tbody>\n",
       "</table>\n"
      ],
      "text/latex": [
       "A data.frame: 6 × 3\n",
       "\\begin{tabular}{r|lll}\n",
       "  & genes & avg\\_exp\\_RPs & avg\\_exp\\_Neurons\\\\\n",
       "  & <chr> & <dbl> & <dbl>\\\\\n",
       "\\hline\n",
       "\t0610005C13Rik & 0610005C13Rik & -0.03833079 & -0.02070590\\\\\n",
       "\t0610007N19Rik & 0610007N19Rik &  0.71755429 & -0.20012080\\\\\n",
       "\t0610007P14Rik & 0610007P14Rik &  0.22835883 & -0.02283235\\\\\n",
       "\t0610009B22Rik & 0610009B22Rik &  0.06986201 & -0.01414614\\\\\n",
       "\t0610009D07Rik & 0610009D07Rik &  0.27053670 & -0.03634246\\\\\n",
       "\t0610009E02Rik & 0610009E02Rik &  0.69287004 & -0.07184510\\\\\n",
       "\\end{tabular}\n"
      ],
      "text/markdown": [
       "\n",
       "A data.frame: 6 × 3\n",
       "\n",
       "| <!--/--> | genes &lt;chr&gt; | avg_exp_RPs &lt;dbl&gt; | avg_exp_Neurons &lt;dbl&gt; |\n",
       "|---|---|---|---|\n",
       "| 0610005C13Rik | 0610005C13Rik | -0.03833079 | -0.02070590 |\n",
       "| 0610007N19Rik | 0610007N19Rik |  0.71755429 | -0.20012080 |\n",
       "| 0610007P14Rik | 0610007P14Rik |  0.22835883 | -0.02283235 |\n",
       "| 0610009B22Rik | 0610009B22Rik |  0.06986201 | -0.01414614 |\n",
       "| 0610009D07Rik | 0610009D07Rik |  0.27053670 | -0.03634246 |\n",
       "| 0610009E02Rik | 0610009E02Rik |  0.69287004 | -0.07184510 |\n",
       "\n"
      ],
      "text/plain": [
       "              genes         avg_exp_RPs avg_exp_Neurons\n",
       "0610005C13Rik 0610005C13Rik -0.03833079 -0.02070590    \n",
       "0610007N19Rik 0610007N19Rik  0.71755429 -0.20012080    \n",
       "0610007P14Rik 0610007P14Rik  0.22835883 -0.02283235    \n",
       "0610009B22Rik 0610009B22Rik  0.06986201 -0.01414614    \n",
       "0610009D07Rik 0610009D07Rik  0.27053670 -0.03634246    \n",
       "0610009E02Rik 0610009E02Rik  0.69287004 -0.07184510    "
      ]
     },
     "metadata": {},
     "output_type": "display_data"
    },
    {
     "data": {
      "text/html": [
       "<style>\n",
       ".list-inline {list-style: none; margin:0; padding: 0}\n",
       ".list-inline>li {display: inline-block}\n",
       ".list-inline>li:not(:last-child)::after {content: \"\\00b7\"; padding: 0 .5ex}\n",
       "</style>\n",
       "<ol class=list-inline><li>15188</li><li>3</li></ol>\n"
      ],
      "text/latex": [
       "\\begin{enumerate*}\n",
       "\\item 15188\n",
       "\\item 3\n",
       "\\end{enumerate*}\n"
      ],
      "text/markdown": [
       "1. 15188\n",
       "2. 3\n",
       "\n",
       "\n"
      ],
      "text/plain": [
       "[1] 15188     3"
      ]
     },
     "metadata": {},
     "output_type": "display_data"
    }
   ],
   "source": [
    "E15_average_exp_values_Neurons <- apply(E155_Cortical@scale.data[, WhichCells(E155_Cortical, ident = \"Neurons\")], MARGIN = 1, mean)  \n",
    "        \n",
    "E15_average_exp_values_RPs <- apply(E155_Cortical@scale.data[,WhichCells(E155_Cortical, ident = \"RPs\")], MARGIN = 1, mean)    \n",
    "\n",
    "avg_exp_edge_df_E15 <- data.frame(genes = rownames(E155_Cortical@scale.data), \n",
    "                                  avg_exp_RPs = E15_average_exp_values_RPs, \n",
    "                                  avg_exp_Neurons = E15_average_exp_values_Neurons, stringsAsFactors =F)\n",
    "head(avg_exp_edge_df_E15)\n",
    "dim(avg_exp_edge_df_E15)"
   ]
  },
  {
   "cell_type": "markdown",
   "metadata": {},
   "source": [
    "## 17th day"
   ]
  },
  {
   "cell_type": "markdown",
   "metadata": {},
   "source": [
    "### Read 15th day Seurat object from previous analysis"
   ]
  },
  {
   "cell_type": "code",
   "execution_count": 8,
   "metadata": {},
   "outputs": [
    {
     "data": {
      "text/plain": [
       "\n",
       "Neurons     RPs \n",
       "    785      71 "
      ]
     },
     "metadata": {},
     "output_type": "display_data"
    }
   ],
   "source": [
    "E175_Cortical <- readRDS(\"E175_Cortical.rds\")\n",
    "table(E175_Cortical@ident)"
   ]
  },
  {
   "cell_type": "markdown",
   "metadata": {},
   "source": [
    "#### Take average expression of all genes for Neurons and RPs"
   ]
  },
  {
   "cell_type": "code",
   "execution_count": 9,
   "metadata": {},
   "outputs": [
    {
     "data": {
      "text/html": [
       "<table>\n",
       "<caption>A data.frame: 6 × 3</caption>\n",
       "<thead>\n",
       "\t<tr><th></th><th scope=col>genes</th><th scope=col>avg_exp_RPs</th><th scope=col>avg_exp_Neurons</th></tr>\n",
       "\t<tr><th></th><th scope=col>&lt;chr&gt;</th><th scope=col>&lt;dbl&gt;</th><th scope=col>&lt;dbl&gt;</th></tr>\n",
       "</thead>\n",
       "<tbody>\n",
       "\t<tr><th scope=row>0610007N19Rik</th><td>0610007N19Rik</td><td> 0.609205749</td><td>-0.055343881</td></tr>\n",
       "\t<tr><th scope=row>0610007P14Rik</th><td>0610007P14Rik</td><td> 0.386171702</td><td>-0.034927632</td></tr>\n",
       "\t<tr><th scope=row>0610009B22Rik</th><td>0610009B22Rik</td><td>-0.004012357</td><td> 0.000362901</td></tr>\n",
       "\t<tr><th scope=row>0610009D07Rik</th><td>0610009D07Rik</td><td> 0.039224840</td><td>-0.003547724</td></tr>\n",
       "\t<tr><th scope=row>0610009E02Rik</th><td>0610009E02Rik</td><td> 0.046326204</td><td>-0.010656564</td></tr>\n",
       "\t<tr><th scope=row>0610009L18Rik</th><td>0610009L18Rik</td><td> 0.095303731</td><td>-0.009807208</td></tr>\n",
       "</tbody>\n",
       "</table>\n"
      ],
      "text/latex": [
       "A data.frame: 6 × 3\n",
       "\\begin{tabular}{r|lll}\n",
       "  & genes & avg\\_exp\\_RPs & avg\\_exp\\_Neurons\\\\\n",
       "  & <chr> & <dbl> & <dbl>\\\\\n",
       "\\hline\n",
       "\t0610007N19Rik & 0610007N19Rik &  0.609205749 & -0.055343881\\\\\n",
       "\t0610007P14Rik & 0610007P14Rik &  0.386171702 & -0.034927632\\\\\n",
       "\t0610009B22Rik & 0610009B22Rik & -0.004012357 &  0.000362901\\\\\n",
       "\t0610009D07Rik & 0610009D07Rik &  0.039224840 & -0.003547724\\\\\n",
       "\t0610009E02Rik & 0610009E02Rik &  0.046326204 & -0.010656564\\\\\n",
       "\t0610009L18Rik & 0610009L18Rik &  0.095303731 & -0.009807208\\\\\n",
       "\\end{tabular}\n"
      ],
      "text/markdown": [
       "\n",
       "A data.frame: 6 × 3\n",
       "\n",
       "| <!--/--> | genes &lt;chr&gt; | avg_exp_RPs &lt;dbl&gt; | avg_exp_Neurons &lt;dbl&gt; |\n",
       "|---|---|---|---|\n",
       "| 0610007N19Rik | 0610007N19Rik |  0.609205749 | -0.055343881 |\n",
       "| 0610007P14Rik | 0610007P14Rik |  0.386171702 | -0.034927632 |\n",
       "| 0610009B22Rik | 0610009B22Rik | -0.004012357 |  0.000362901 |\n",
       "| 0610009D07Rik | 0610009D07Rik |  0.039224840 | -0.003547724 |\n",
       "| 0610009E02Rik | 0610009E02Rik |  0.046326204 | -0.010656564 |\n",
       "| 0610009L18Rik | 0610009L18Rik |  0.095303731 | -0.009807208 |\n",
       "\n"
      ],
      "text/plain": [
       "              genes         avg_exp_RPs  avg_exp_Neurons\n",
       "0610007N19Rik 0610007N19Rik  0.609205749 -0.055343881   \n",
       "0610007P14Rik 0610007P14Rik  0.386171702 -0.034927632   \n",
       "0610009B22Rik 0610009B22Rik -0.004012357  0.000362901   \n",
       "0610009D07Rik 0610009D07Rik  0.039224840 -0.003547724   \n",
       "0610009E02Rik 0610009E02Rik  0.046326204 -0.010656564   \n",
       "0610009L18Rik 0610009L18Rik  0.095303731 -0.009807208   "
      ]
     },
     "metadata": {},
     "output_type": "display_data"
    },
    {
     "data": {
      "text/html": [
       "<style>\n",
       ".list-inline {list-style: none; margin:0; padding: 0}\n",
       ".list-inline>li {display: inline-block}\n",
       ".list-inline>li:not(:last-child)::after {content: \"\\00b7\"; padding: 0 .5ex}\n",
       "</style>\n",
       "<ol class=list-inline><li>12909</li><li>3</li></ol>\n"
      ],
      "text/latex": [
       "\\begin{enumerate*}\n",
       "\\item 12909\n",
       "\\item 3\n",
       "\\end{enumerate*}\n"
      ],
      "text/markdown": [
       "1. 12909\n",
       "2. 3\n",
       "\n",
       "\n"
      ],
      "text/plain": [
       "[1] 12909     3"
      ]
     },
     "metadata": {},
     "output_type": "display_data"
    }
   ],
   "source": [
    "E17_average_exp_values_Neurons <- apply(E175_Cortical@scale.data[,WhichCells(E175_Cortical, ident = \"Neurons\")], MARGIN = 1, mean)  \n",
    "        \n",
    "E17_average_exp_values_RPs <- apply(E175_Cortical@scale.data[,WhichCells(E175_Cortical, ident = \"RPs\")], \n",
    "                                MARGIN = 1, mean)    \n",
    "\n",
    "avg_exp_edge_df_E17 <- data.frame(genes = rownames(E175_Cortical@scale.data), \n",
    "                                  avg_exp_RPs = E17_average_exp_values_RPs, \n",
    "                                  avg_exp_Neurons = E17_average_exp_values_Neurons, stringsAsFactors =F)\n",
    "head(avg_exp_edge_df_E17)\n",
    "dim(avg_exp_edge_df_E17)"
   ]
  },
  {
   "cell_type": "markdown",
   "metadata": {},
   "source": [
    "## Combine the average vectors of three days into one dataframe"
   ]
  },
  {
   "cell_type": "code",
   "execution_count": 26,
   "metadata": {},
   "outputs": [
    {
     "data": {
      "text/html": [
       "<table>\n",
       "<caption>A data.frame: 6 × 7</caption>\n",
       "<thead>\n",
       "\t<tr><th></th><th scope=col>genes</th><th scope=col>avg_exp_RPs_E13</th><th scope=col>avg_exp_Neurons_E13</th><th scope=col>avg_exp_RPs_E15</th><th scope=col>avg_exp_Neurons_E15</th><th scope=col>avg_exp_RPs_E17</th><th scope=col>avg_exp_Neurons_E17</th></tr>\n",
       "\t<tr><th></th><th scope=col>&lt;chr&gt;</th><th scope=col>&lt;dbl&gt;</th><th scope=col>&lt;dbl&gt;</th><th scope=col>&lt;dbl&gt;</th><th scope=col>&lt;dbl&gt;</th><th scope=col>&lt;dbl&gt;</th><th scope=col>&lt;dbl&gt;</th></tr>\n",
       "</thead>\n",
       "<tbody>\n",
       "\t<tr><th scope=row>0610007N19Rik</th><td>0610007N19Rik</td><td>0.717554286</td><td>-0.200120800</td><td>0.717554286</td><td>-0.200120800</td><td> 0.609205749</td><td>-0.055343881</td></tr>\n",
       "\t<tr><th scope=row>0610007P14Rik</th><td>0610007P14Rik</td><td>0.228358830</td><td>-0.022832347</td><td>0.228358830</td><td>-0.022832347</td><td> 0.386171702</td><td>-0.034927632</td></tr>\n",
       "\t<tr><th scope=row>0610009B22Rik</th><td>0610009B22Rik</td><td>0.069862008</td><td>-0.014146145</td><td>0.069862008</td><td>-0.014146145</td><td>-0.004012357</td><td> 0.000362901</td></tr>\n",
       "\t<tr><th scope=row>0610009D07Rik</th><td>0610009D07Rik</td><td>0.270536701</td><td>-0.036342461</td><td>0.270536701</td><td>-0.036342461</td><td> 0.039224840</td><td>-0.003547724</td></tr>\n",
       "\t<tr><th scope=row>0610009E02Rik</th><td>0610009E02Rik</td><td>0.692870037</td><td>-0.071845102</td><td>0.692870037</td><td>-0.071845102</td><td> 0.046326204</td><td>-0.010656564</td></tr>\n",
       "\t<tr><th scope=row>0610009L18Rik</th><td>0610009L18Rik</td><td>0.005836016</td><td>-0.001304848</td><td>0.005836016</td><td>-0.001304848</td><td> 0.095303731</td><td>-0.009807208</td></tr>\n",
       "</tbody>\n",
       "</table>\n"
      ],
      "text/latex": [
       "A data.frame: 6 × 7\n",
       "\\begin{tabular}{r|lllllll}\n",
       "  & genes & avg\\_exp\\_RPs\\_E13 & avg\\_exp\\_Neurons\\_E13 & avg\\_exp\\_RPs\\_E15 & avg\\_exp\\_Neurons\\_E15 & avg\\_exp\\_RPs\\_E17 & avg\\_exp\\_Neurons\\_E17\\\\\n",
       "  & <chr> & <dbl> & <dbl> & <dbl> & <dbl> & <dbl> & <dbl>\\\\\n",
       "\\hline\n",
       "\t0610007N19Rik & 0610007N19Rik & 0.717554286 & -0.200120800 & 0.717554286 & -0.200120800 &  0.609205749 & -0.055343881\\\\\n",
       "\t0610007P14Rik & 0610007P14Rik & 0.228358830 & -0.022832347 & 0.228358830 & -0.022832347 &  0.386171702 & -0.034927632\\\\\n",
       "\t0610009B22Rik & 0610009B22Rik & 0.069862008 & -0.014146145 & 0.069862008 & -0.014146145 & -0.004012357 &  0.000362901\\\\\n",
       "\t0610009D07Rik & 0610009D07Rik & 0.270536701 & -0.036342461 & 0.270536701 & -0.036342461 &  0.039224840 & -0.003547724\\\\\n",
       "\t0610009E02Rik & 0610009E02Rik & 0.692870037 & -0.071845102 & 0.692870037 & -0.071845102 &  0.046326204 & -0.010656564\\\\\n",
       "\t0610009L18Rik & 0610009L18Rik & 0.005836016 & -0.001304848 & 0.005836016 & -0.001304848 &  0.095303731 & -0.009807208\\\\\n",
       "\\end{tabular}\n"
      ],
      "text/markdown": [
       "\n",
       "A data.frame: 6 × 7\n",
       "\n",
       "| <!--/--> | genes &lt;chr&gt; | avg_exp_RPs_E13 &lt;dbl&gt; | avg_exp_Neurons_E13 &lt;dbl&gt; | avg_exp_RPs_E15 &lt;dbl&gt; | avg_exp_Neurons_E15 &lt;dbl&gt; | avg_exp_RPs_E17 &lt;dbl&gt; | avg_exp_Neurons_E17 &lt;dbl&gt; |\n",
       "|---|---|---|---|---|---|---|---|\n",
       "| 0610007N19Rik | 0610007N19Rik | 0.717554286 | -0.200120800 | 0.717554286 | -0.200120800 |  0.609205749 | -0.055343881 |\n",
       "| 0610007P14Rik | 0610007P14Rik | 0.228358830 | -0.022832347 | 0.228358830 | -0.022832347 |  0.386171702 | -0.034927632 |\n",
       "| 0610009B22Rik | 0610009B22Rik | 0.069862008 | -0.014146145 | 0.069862008 | -0.014146145 | -0.004012357 |  0.000362901 |\n",
       "| 0610009D07Rik | 0610009D07Rik | 0.270536701 | -0.036342461 | 0.270536701 | -0.036342461 |  0.039224840 | -0.003547724 |\n",
       "| 0610009E02Rik | 0610009E02Rik | 0.692870037 | -0.071845102 | 0.692870037 | -0.071845102 |  0.046326204 | -0.010656564 |\n",
       "| 0610009L18Rik | 0610009L18Rik | 0.005836016 | -0.001304848 | 0.005836016 | -0.001304848 |  0.095303731 | -0.009807208 |\n",
       "\n"
      ],
      "text/plain": [
       "              genes         avg_exp_RPs_E13 avg_exp_Neurons_E13 avg_exp_RPs_E15\n",
       "0610007N19Rik 0610007N19Rik 0.717554286     -0.200120800        0.717554286    \n",
       "0610007P14Rik 0610007P14Rik 0.228358830     -0.022832347        0.228358830    \n",
       "0610009B22Rik 0610009B22Rik 0.069862008     -0.014146145        0.069862008    \n",
       "0610009D07Rik 0610009D07Rik 0.270536701     -0.036342461        0.270536701    \n",
       "0610009E02Rik 0610009E02Rik 0.692870037     -0.071845102        0.692870037    \n",
       "0610009L18Rik 0610009L18Rik 0.005836016     -0.001304848        0.005836016    \n",
       "              avg_exp_Neurons_E15 avg_exp_RPs_E17 avg_exp_Neurons_E17\n",
       "0610007N19Rik -0.200120800         0.609205749    -0.055343881       \n",
       "0610007P14Rik -0.022832347         0.386171702    -0.034927632       \n",
       "0610009B22Rik -0.014146145        -0.004012357     0.000362901       \n",
       "0610009D07Rik -0.036342461         0.039224840    -0.003547724       \n",
       "0610009E02Rik -0.071845102         0.046326204    -0.010656564       \n",
       "0610009L18Rik -0.001304848         0.095303731    -0.009807208       "
      ]
     },
     "metadata": {},
     "output_type": "display_data"
    },
    {
     "data": {
      "text/html": [
       "<style>\n",
       ".list-inline {list-style: none; margin:0; padding: 0}\n",
       ".list-inline>li {display: inline-block}\n",
       ".list-inline>li:not(:last-child)::after {content: \"\\00b7\"; padding: 0 .5ex}\n",
       "</style>\n",
       "<ol class=list-inline><li>12800</li><li>7</li></ol>\n"
      ],
      "text/latex": [
       "\\begin{enumerate*}\n",
       "\\item 12800\n",
       "\\item 7\n",
       "\\end{enumerate*}\n"
      ],
      "text/markdown": [
       "1. 12800\n",
       "2. 7\n",
       "\n",
       "\n"
      ],
      "text/plain": [
       "[1] 12800     7"
      ]
     },
     "metadata": {},
     "output_type": "display_data"
    }
   ],
   "source": [
    "avg_exp_alldays_df <- merge(merge(avg_exp_edge_df_E15, avg_exp_edge_df_E15,by = \"genes\",\n",
    "                                  suffixes = c(\"_E13\",\"_E15\")), avg_exp_edge_df_E17, by = \"genes\")\n",
    "colnames(avg_exp_alldays_df) <- c(colnames(avg_exp_alldays_df)[1:5], \"avg_exp_RPs_E17\", \"avg_exp_Neurons_E17\")\n",
    "rownames(avg_exp_alldays_df) <- avg_exp_alldays_df$genes\n",
    "head(avg_exp_alldays_df)\n",
    "dim(avg_exp_alldays_df)"
   ]
  },
  {
   "cell_type": "markdown",
   "metadata": {},
   "source": [
    "### Making a GCT file for visualisation in Phantasus"
   ]
  },
  {
   "cell_type": "markdown",
   "metadata": {},
   "source": [
    "#### Make column metadata"
   ]
  },
  {
   "cell_type": "code",
   "execution_count": 27,
   "metadata": {},
   "outputs": [
    {
     "data": {
      "text/html": [
       "<table>\n",
       "<caption>A data.frame: 6 × 2</caption>\n",
       "<thead>\n",
       "\t<tr><th></th><th scope=col>day</th><th scope=col>cell</th></tr>\n",
       "\t<tr><th></th><th scope=col>&lt;chr&gt;</th><th scope=col>&lt;chr&gt;</th></tr>\n",
       "</thead>\n",
       "<tbody>\n",
       "\t<tr><th scope=row>avg_exp_RPs_E13</th><td>13</td><td>RPs    </td></tr>\n",
       "\t<tr><th scope=row>avg_exp_Neurons_E13</th><td>13</td><td>Neurons</td></tr>\n",
       "\t<tr><th scope=row>avg_exp_RPs_E15</th><td>15</td><td>RPs    </td></tr>\n",
       "\t<tr><th scope=row>avg_exp_Neurons_E15</th><td>15</td><td>Neurons</td></tr>\n",
       "\t<tr><th scope=row>avg_exp_RPs_E17</th><td>17</td><td>RPs    </td></tr>\n",
       "\t<tr><th scope=row>avg_exp_Neurons_E17</th><td>17</td><td>Neurons</td></tr>\n",
       "</tbody>\n",
       "</table>\n"
      ],
      "text/latex": [
       "A data.frame: 6 × 2\n",
       "\\begin{tabular}{r|ll}\n",
       "  & day & cell\\\\\n",
       "  & <chr> & <chr>\\\\\n",
       "\\hline\n",
       "\tavg\\_exp\\_RPs\\_E13 & 13 & RPs    \\\\\n",
       "\tavg\\_exp\\_Neurons\\_E13 & 13 & Neurons\\\\\n",
       "\tavg\\_exp\\_RPs\\_E15 & 15 & RPs    \\\\\n",
       "\tavg\\_exp\\_Neurons\\_E15 & 15 & Neurons\\\\\n",
       "\tavg\\_exp\\_RPs\\_E17 & 17 & RPs    \\\\\n",
       "\tavg\\_exp\\_Neurons\\_E17 & 17 & Neurons\\\\\n",
       "\\end{tabular}\n"
      ],
      "text/markdown": [
       "\n",
       "A data.frame: 6 × 2\n",
       "\n",
       "| <!--/--> | day &lt;chr&gt; | cell &lt;chr&gt; |\n",
       "|---|---|---|\n",
       "| avg_exp_RPs_E13 | 13 | RPs     |\n",
       "| avg_exp_Neurons_E13 | 13 | Neurons |\n",
       "| avg_exp_RPs_E15 | 15 | RPs     |\n",
       "| avg_exp_Neurons_E15 | 15 | Neurons |\n",
       "| avg_exp_RPs_E17 | 17 | RPs     |\n",
       "| avg_exp_Neurons_E17 | 17 | Neurons |\n",
       "\n"
      ],
      "text/plain": [
       "                    day cell   \n",
       "avg_exp_RPs_E13     13  RPs    \n",
       "avg_exp_Neurons_E13 13  Neurons\n",
       "avg_exp_RPs_E15     15  RPs    \n",
       "avg_exp_Neurons_E15 15  Neurons\n",
       "avg_exp_RPs_E17     17  RPs    \n",
       "avg_exp_Neurons_E17 17  Neurons"
      ]
     },
     "metadata": {},
     "output_type": "display_data"
    }
   ],
   "source": [
    "gene_day_df <- data.frame(colnames(avg_exp_alldays_df)[2:length(colnames(avg_exp_alldays_df))],\n",
    "                                                                    stringsAsFactors = F)\n",
    "colnames(gene_day_df) <- c(\"col\")\n",
    "gene_day_df$day <- c(\"13\", \"13\", \"15\", \"15\", \"17\", \"17\")\n",
    "gene_day_df$cell <- c(\"RPs\", \"Neurons\", \"RPs\", \"Neurons\", \"RPs\", \"Neurons\")\n",
    "rownames(gene_day_df) <- gene_day_df$col\n",
    "gene_day_df <- gene_day_df[,c(\"day\", \"cell\")] \n",
    "head(gene_day_df)"
   ]
  },
  {
   "cell_type": "markdown",
   "metadata": {},
   "source": [
    "### save gct file"
   ]
  },
  {
   "cell_type": "code",
   "execution_count": 28,
   "metadata": {},
   "outputs": [],
   "source": [
    "gct_3_days <- to_GCT(as.matrix(avg_exp_alldays_df[,-1]), cdesc = gene_day_df)"
   ]
  },
  {
   "cell_type": "code",
   "execution_count": 33,
   "metadata": {},
   "outputs": [
    {
     "name": "stdout",
     "output_type": "stream",
     "text": [
      "Saving file to heatmap_all_days.gct\n",
      "Dimensions of matrix: [12800x6]\n",
      "Setting precision to 4\n",
      "Saved.\n"
     ]
    }
   ],
   "source": [
    "write_gct(gct_3_days, \"heatmap_all_days.gct\")"
   ]
  },
  {
   "cell_type": "markdown",
   "metadata": {},
   "source": [
    "The GCT file can be visualised in [Phantasus](https://artyomovlab.wustl.edu/phantasus/)"
   ]
  },
  {
   "cell_type": "markdown",
   "metadata": {},
   "source": [
    "The heatmap can be accessed in Phantasus using this link https://artyomovlab.wustl.edu/phantasus/?session=x0482564177f15c"
   ]
  }
 ],
 "metadata": {
  "kernelspec": {
   "display_name": "R",
   "language": "R",
   "name": "ir"
  },
  "toc": {
   "base_numbering": 1,
   "nav_menu": {},
   "number_sections": true,
   "sideBar": true,
   "skip_h1_title": false,
   "title_cell": "Table of Contents",
   "title_sidebar": "Contents",
   "toc_cell": false,
   "toc_position": {},
   "toc_section_display": true,
   "toc_window_display": true
  }
 },
 "nbformat": 4,
 "nbformat_minor": 2
}
